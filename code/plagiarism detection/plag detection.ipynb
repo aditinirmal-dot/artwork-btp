{
  "nbformat": 4,
  "nbformat_minor": 0,
  "metadata": {
    "colab": {
      "name": "plag detection.ipynb",
      "provenance": []
    },
    "kernelspec": {
      "name": "python3",
      "display_name": "Python 3"
    },
    "language_info": {
      "name": "python"
    }
  },
  "cells": [
    {
      "cell_type": "code",
      "execution_count": 1,
      "metadata": {
        "id": "c3vDWd7Uewj9"
      },
      "outputs": [],
      "source": [
        "#importing modules\n",
        "import random\n",
        "import numpy as np\n",
        "import pandas as pd\n",
        "import matplotlib.pyplot as plt\n",
        "import cv2\n",
        "import os\n",
        "import pickle\n",
        "from shutil import copy2\n",
        "import tensorflow\n",
        "import IPython\n",
        "\n",
        "import keras\n",
        "keras.backend.clear_session()\n"
      ]
    },
    {
      "cell_type": "code",
      "source": [
        "#mounting drive on colab\n",
        "from google.colab import drive\n",
        "drive.mount('/content/drive', force_remount=True)"
      ],
      "metadata": {
        "colab": {
          "base_uri": "https://localhost:8080/"
        },
        "id": "5fSJdf-afuc1",
        "outputId": "9df05dd3-82a2-43e5-b64b-43c2f8de7be7"
      },
      "execution_count": 3,
      "outputs": [
        {
          "output_type": "stream",
          "name": "stdout",
          "text": [
            "Mounted at /content/drive\n"
          ]
        }
      ]
    },
    {
      "cell_type": "code",
      "source": [
        "#loading model from the saved file on disk\n",
        "def top3_accuracy(y_true, y_pred):\n",
        "    return top_k_categorical_accuracy(y_true, y_pred, k=3)\n",
        "    \n",
        "model1=keras.models.load_model('/content/drive/My Drive/btp data/exp2/vggmodeldemo.h5', custom_objects={'top3_accuracy':top3_accuracy})"
      ],
      "metadata": {
        "id": "1LGp36WMexKM"
      },
      "execution_count": 4,
      "outputs": []
    },
    {
      "cell_type": "code",
      "source": [
        "#loading image for plag detection\n",
        "\n",
        "#img=Image.open(file.stream)\n",
        "#img = cv2.cvtColor(np.array(img), cv2.COLOR_RGB2BGR)\n",
        "img = cv2.imread('/content/btp1.jpg')\n",
        "img = cv2.resize(img,(224,224))\n",
        "img = np.reshape(img,[1,224,224,3])"
      ],
      "metadata": {
        "id": "jyUBmISmfFba"
      },
      "execution_count": 143,
      "outputs": []
    },
    {
      "cell_type": "code",
      "source": [
        "#predicting the artist classes for the uploaded image using the model\n",
        "probs = model1.predict(img)\n",
        "best_3 = np.argsort(probs, axis=1)[:,-3:]\n",
        "predicts=model1.predict(img)"
      ],
      "metadata": {
        "id": "JRRRIHctf9Wm"
      },
      "execution_count": 144,
      "outputs": []
    },
    {
      "cell_type": "code",
      "source": [
        "#converting predictions into a more readable format\n",
        "names=[]\n",
        "accuracy=[]\n",
        "for i in best_3:\n",
        "  for j in i:\n",
        "    if(j==0):\n",
        "      names.append(\"Albrecht Durer\")\n",
        "      accuracy.append(predicts[0][j]*100)\n",
        "    elif(j==1):\n",
        "      names.append(\"Alfred Sisley\")\n",
        "      accuracy.append(predicts[0][j]*100)\n",
        "    elif(j==2):\n",
        "      names.append(\"Boris Kustodiev\")\n",
        "      accuracy.append(predicts[0][j]*100)\n",
        "    elif(j==3):\n",
        "      names.append(\"Camille Corot\")\n",
        "      accuracy.append(predicts[0][j]*100)\n",
        "    elif(j==4):\n",
        "      names.append(\"Camille Pissarro\")\n",
        "      accuracy.append(predicts[0][j]*100)\n",
        "    elif(j==5):\n",
        "      names.append(\"Childe Hassam\")\n",
        "      accuracy.append(predicts[0][j]*100)\n",
        "    elif(j==6):\n",
        "      names.append(\"Claude Monet\")\n",
        "      accuracy.append(predicts[0][j]*100)\n",
        "    elif(j==7):\n",
        "      names.append(\"Edgar Degas\")\n",
        "      accuracy.append(predicts[0][j]*100)\n",
        "    elif(j==8):\n",
        "      names.append(\"Eugene Boudin\")\n",
        "      accuracy.append(predicts[0][j]*100)\n",
        "    elif(j==9):\n",
        "      names.append(\"Eyvind Earle\")\n",
        "      accuracy.append(predicts[0][j]*100)\n",
        "    elif(j==10):\n",
        "      names.append(\"Fernand Leger\")\n",
        "      accuracy.append(predicts[0][j]*100)\n",
        "    elif(j==11):\n",
        "      names.append(\"Giovanni Battista Piranesi\")\n",
        "      accuracy.append(predicts[0][j]*100)\n",
        "    elif(j==12):\n",
        "      names.append(\"Gustave Dore\")\n",
        "      accuracy.append(predicts[0][j]*100)\n",
        "    elif(j==13):\n",
        "      names.append(\"Henri Martin\")\n",
        "      accuracy.append(predicts[0][j]*100)\n",
        "    elif(j==14):\n",
        "      names.append(\"Henri Matisse\")\n",
        "      accuracy.append(predicts[0][j]*100)\n",
        "    elif(j==15):\n",
        "      names.append(\"Ilya Repin\")\n",
        "      accuracy.append(predicts[0][j]*100)\n",
        "    elif(j==16):\n",
        "      names.append(\"Isaac Levitan\")\n",
        "      accuracy.append(predicts[0][j]*100)\n",
        "    elif(j==17):\n",
        "      names.append(\"Ivan Aivazovsky\")\n",
        "      accuracy.append(predicts[0][j]*100)\n",
        "    elif(j==18):\n",
        "      names.append(\"Ivan Shishkin\")\n",
        "      accuracy.append(predicts[0][j]*100)\n",
        "    elif(j==19):\n",
        "      names.append(\"James Tissot\")\n",
        "      accuracy.append(predicts[0][j]*100)\n",
        "    elif(j==20):\n",
        "      names.append(\"John Singer Sargent\")\n",
        "      accuracy.append(predicts[0][j]*100)\n",
        "    elif(j==21):\n",
        "      names.append(\"Marc Chagall\")\n",
        "      accuracy.append(predicts[0][j]*100)\n",
        "    elif(j==22):\n",
        "      names.append(\"Martiros Saryan\")\n",
        "      accuracy.append(predicts[0][j]*100)\n",
        "    elif(j==23):\n",
        "      names.append(\"Nicholas Roerich\")\n",
        "      accuracy.append(predicts[0][j]*100)\n",
        "    elif(j==24):\n",
        "      names.append(\"Odilon Redon\")\n",
        "      accuracy.append(predicts[0][j]*100)\n",
        "    elif(j==25):\n",
        "      names.append(\"Pablo Picasso\")\n",
        "      accuracy.append(predicts[0][j]*100)\n",
        "    elif(j==26):\n",
        "      names.append(\"Paul Cezanne\")\n",
        "      accuracy.append(predicts[0][j]*100)\n",
        "    elif(j==27):\n",
        "      names.append(\"Paul Gauguin\")\n",
        "      accuracy.append(predicts[0][j]*100)\n",
        "    elif(j==28):\n",
        "      names.append(\"Pierre-Auguste Renoir\")\n",
        "      accuracy.append(predicts[0][j]*100)\n",
        "    elif(j==29):\n",
        "      names.append(\"Pyotr Konchalovsky\")\n",
        "      accuracy.append(predicts[0][j]*100)\n",
        "    elif(j==30):\n",
        "      names.append(\"Raphael Kirchner\")\n",
        "      accuracy.append(predicts[0][j]*100)\n",
        "    elif(j==31):\n",
        "      names.append(\"Rembrandt\")\n",
        "      accuracy.append(predicts[0][j]*100)\n",
        "    elif(j==32):\n",
        "      names.append(\"Salvador Dali\")\n",
        "      accuracy.append(predicts[0][j]*100)\n",
        "    elif(j==33):\n",
        "      names.append(\"Theophile Steinlen\")\n",
        "      accuracy.append(predicts[0][j]*100)\n",
        "    elif(j==34):\n",
        "      names.append(\"Vincent van Gogh\")\n",
        "      accuracy.append(predicts[0][j]*100)\n",
        "    elif(j==35):\n",
        "      names.append(\"Zdislav Beksinski\")\n",
        "      accuracy.append(predicts[0][j]*100)\n",
        "    elif(j==36):\n",
        "      names.append(\"Zinaida Serebriakova\")\n",
        "      accuracy.append(predicts[0][j]*100)"
      ],
      "metadata": {
        "id": "ftxZnm3jgHiy"
      },
      "execution_count": 145,
      "outputs": []
    },
    {
      "cell_type": "code",
      "source": [
        "names.reverse()\n",
        "accuracy.reverse()"
      ],
      "metadata": {
        "id": "NgwATuEYgIOk"
      },
      "execution_count": 146,
      "outputs": []
    },
    {
      "cell_type": "code",
      "source": [
        "#printing the predicted class and plagiarism values\n",
        "print(names)\n",
        "print(accuracy)\n",
        "if(accuracy[0]>50):\n",
        "  print(\"Highly Similar\")\n",
        "elif(accuracy[0]<=50 and accuracy[0]>=45):\n",
        "  print(\"Somewhat Similar\")\n",
        "else:\n",
        "  print(\"Not Similar\")"
      ],
      "metadata": {
        "colab": {
          "base_uri": "https://localhost:8080/"
        },
        "id": "dsdFy81pgKYl",
        "outputId": "a7e2ecd7-5b5f-4bb4-91c9-293da39510c1"
      },
      "execution_count": 147,
      "outputs": [
        {
          "output_type": "stream",
          "name": "stdout",
          "text": [
            "['Martiros Saryan', 'Henri Matisse', 'Nicholas Roerich']\n",
            "[99.99163150787354, 0.007765863119857386, 0.00035730492982111173]\n",
            "Highly Similar\n"
          ]
        }
      ]
    },
    {
      "cell_type": "code",
      "source": [
        ""
      ],
      "metadata": {
        "id": "Nym-K5GWi6ej"
      },
      "execution_count": null,
      "outputs": []
    }
  ]
}