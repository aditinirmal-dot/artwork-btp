{
 "cells": [
  {
   "cell_type": "code",
   "execution_count": 54,
   "id": "218754bb",
   "metadata": {},
   "outputs": [],
   "source": [
    "#importing modules\n",
    "import random\n",
    "import numpy as np\n",
    "import pandas as pd\n",
    "import matplotlib.pyplot as plt\n",
    "import cv2\n",
    "import os\n",
    "import pickle\n",
    "from shutil import copy2\n",
    "import tensorflow\n",
    "import IPython\n",
    "\n",
    "import keras\n",
    "keras.backend.clear_session()"
   ]
  },
  {
   "cell_type": "code",
   "execution_count": 55,
   "id": "0a3733a8",
   "metadata": {},
   "outputs": [],
   "source": [
    "#reading data from csv file\n",
    "df = pd.read_csv('all_data_info.csv')\n",
    "artistcount = {}\n",
    "\n",
    "for index, row in df.iterrows():\n",
    "    if row[\"artist\"] in artistcount:\n",
    "        artistcount[row[\"artist\"]] = artistcount[row[\"artist\"]] + 1\n",
    "    else:\n",
    "        artistcount[row[\"artist\"]] = 1\n",
    "\n"
   ]
  },
  {
   "cell_type": "code",
   "execution_count": 56,
   "id": "4de2903b",
   "metadata": {},
   "outputs": [
    {
     "name": "stdout",
     "output_type": "stream",
     "text": [
      "Ivan Aivazovsky : 500\n",
      "Gustave Dore : 500\n",
      "Utagawa Kuniyoshi : 347\n",
      "Odilon Redon : 451\n",
      "Henri de Toulouse-Lautrec : 369\n",
      "Rembrandt : 500\n",
      "Ernst Ludwig Kirchner : 388\n",
      "William Merritt Chase : 363\n",
      "Edgar Degas : 495\n",
      "Claude Monet : 498\n",
      "Theodor Severin Kittelsen : 351\n",
      "Felix Vallotton : 305\n",
      "Pierre-Auguste Renoir : 500\n",
      "Albrecht Durer : 500\n",
      "Francisco Goya : 386\n",
      "Theophile Steinlen : 485\n",
      "Alfred Sisley : 464\n",
      "Ivan Shishkin : 500\n",
      "Giovanni Battista Piranesi : 500\n",
      "Camille Corot : 488\n",
      "Childe Hassam : 493\n",
      "Raphael Kirchner : 497\n",
      "James Tissot : 427\n",
      "Eugene Boudin : 496\n",
      "Paul Cezanne : 499\n",
      "John Singer Sargent : 500\n",
      "Peter Paul Rubens : 375\n",
      "Vincent van Gogh : 494\n",
      "Isaac Levitan : 449\n",
      "Zdislav Beksinski : 500\n",
      "David Burliuk : 360\n",
      "Camille Pissarro : 499\n",
      "Fernand Leger : 437\n",
      "Amedeo Modigliani : 342\n",
      "Konstantin Makovsky : 364\n",
      "Mary Cassatt : 302\n",
      "Sam Francis : 321\n",
      "Boris Kustodiev : 498\n",
      "Nicholas Roerich : 496\n",
      "Ilya Repin : 500\n",
      "Martiros Saryan : 499\n",
      "Pyotr Konchalovsky : 499\n",
      "M.C. Escher : 335\n",
      "Maurice Prendergast : 379\n",
      "Salvador Dali : 485\n",
      "Pablo Picasso : 500\n",
      "Henri Matisse : 495\n",
      "Rene Magritte : 358\n",
      "Max Ernst : 344\n",
      "Henri Martin : 405\n",
      "Erte : 364\n",
      "Marc Chagall : 500\n",
      "Paul Gauguin : 498\n",
      "Albert Bierstadt : 322\n",
      "Zinaida Serebriakova : 412\n",
      "Eyvind Earle : 422\n",
      "Konstantin Korovin : 315\n",
      "57 24871\n"
     ]
    }
   ],
   "source": [
    "#finding number of artists and their paintings in the data subset\n",
    "finalartists={}\n",
    "for x in artistcount:\n",
    "    if(artistcount[x] > 300):\n",
    "        finalartists[x]=artistcount[x]\n",
    "        \n",
    "artists=0\n",
    "totalart=0        \n",
    "for y in finalartists:\n",
    "    print(y, ':', finalartists[y])\n",
    "    artists+=1\n",
    "    totalart+=finalartists[y]\n",
    "    \n",
    "print(artists, totalart)"
   ]
  },
  {
   "cell_type": "code",
   "execution_count": 57,
   "id": "ab111532",
   "metadata": {},
   "outputs": [],
   "source": [
    "def new_folder(path):\n",
    "    if not os.path.exists(path):\n",
    "        os.mkdir(path)\n",
    "        print('Created:', path)\n",
    "    else:\n",
    "        print('Exists:', path)"
   ]
  },
  {
   "cell_type": "code",
   "execution_count": 58,
   "id": "ffc4a046",
   "metadata": {},
   "outputs": [],
   "source": [
    "def getList(dict):\n",
    "    return list(dict.keys())\n",
    "\n",
    "\n",
    "artistslist=getList(finalartists)"
   ]
  },
  {
   "cell_type": "code",
   "execution_count": 59,
   "id": "d3c9a7ff",
   "metadata": {},
   "outputs": [
    {
     "name": "stdout",
     "output_type": "stream",
     "text": [
      "Exists: G:/btp data/Resized/top 300/\n",
      "Created: G:/btp data/Resized/top 300/finalartists/\n"
     ]
    }
   ],
   "source": [
    "input_dir = 'G:/btp data/Resized/totaldata/'\n",
    "top300='G:/btp data/Resized/top 300/'\n",
    "new_folder(top300)\n",
    "output_dir = 'G:/btp data/Resized/top 300/finalartists/'\n",
    "new_folder(output_dir)"
   ]
  },
  {
   "cell_type": "code",
   "execution_count": 50,
   "id": "c9c7317d",
   "metadata": {},
   "outputs": [
    {
     "data": {
      "text/plain": [
       "'Felix Vallotton'"
      ]
     },
     "execution_count": 50,
     "metadata": {},
     "output_type": "execute_result"
    }
   ],
   "source": [
    "#artistslist[11]"
   ]
  },
  {
   "cell_type": "code",
   "execution_count": 51,
   "id": "035224fb",
   "metadata": {},
   "outputs": [],
   "source": [
    "#artistslist[11]='Felix Vallotton'"
   ]
  },
  {
   "cell_type": "code",
   "execution_count": 60,
   "id": "aad265b9",
   "metadata": {},
   "outputs": [
    {
     "name": "stdout",
     "output_type": "stream",
     "text": [
      "Copied 300 images of Ivan Aivazovsky\n",
      "Copied 300 images of Gustave Dore\n",
      "Copied 300 images of Utagawa Kuniyoshi\n",
      "Copied 300 images of Odilon Redon\n",
      "Copied 300 images of Henri de Toulouse-Lautrec\n",
      "Copied 300 images of Rembrandt\n",
      "Copied 300 images of Ernst Ludwig Kirchner\n",
      "Copied 300 images of William Merritt Chase\n",
      "Copied 300 images of Edgar Degas\n",
      "Copied 300 images of Claude Monet\n",
      "Copied 300 images of Theodor Severin Kittelsen\n",
      "Copied 300 images of Felix Vallotton\n",
      "Copied 300 images of Pierre-Auguste Renoir\n",
      "Copied 300 images of Albrecht Durer\n",
      "Copied 300 images of Francisco Goya\n",
      "Copied 300 images of Theophile Steinlen\n",
      "Copied 300 images of Alfred Sisley\n",
      "Copied 300 images of Ivan Shishkin\n",
      "Copied 300 images of Giovanni Battista Piranesi\n",
      "Copied 300 images of Camille Corot\n",
      "Copied 300 images of Childe Hassam\n",
      "Copied 300 images of Raphael Kirchner\n",
      "Copied 300 images of James Tissot\n",
      "Copied 300 images of Eugene Boudin\n",
      "Copied 300 images of Paul Cezanne\n",
      "Copied 300 images of John Singer Sargent\n",
      "Copied 300 images of Peter Paul Rubens\n",
      "Copied 300 images of Vincent van Gogh\n",
      "Copied 300 images of Isaac Levitan\n",
      "Copied 300 images of Zdislav Beksinski\n",
      "Copied 300 images of David Burliuk\n",
      "Copied 300 images of Camille Pissarro\n",
      "Copied 300 images of Fernand Leger\n",
      "Copied 300 images of Amedeo Modigliani\n",
      "Copied 300 images of Konstantin Makovsky\n",
      "Copied 300 images of Mary Cassatt\n",
      "Copied 300 images of Sam Francis\n",
      "Copied 300 images of Boris Kustodiev\n",
      "Copied 300 images of Nicholas Roerich\n",
      "Copied 300 images of Ilya Repin\n",
      "Copied 300 images of Martiros Saryan\n",
      "Copied 300 images of Pyotr Konchalovsky\n",
      "Copied 300 images of M.C. Escher\n",
      "Copied 300 images of Maurice Prendergast\n",
      "Copied 300 images of Salvador Dali\n",
      "Copied 300 images of Pablo Picasso\n",
      "Copied 300 images of Henri Matisse\n",
      "Copied 300 images of Rene Magritte\n",
      "Copied 300 images of Max Ernst\n",
      "Copied 300 images of Henri Martin\n",
      "Copied 300 images of Erte\n",
      "Copied 300 images of Marc Chagall\n",
      "Copied 300 images of Paul Gauguin\n",
      "Copied 300 images of Albert Bierstadt\n",
      "Copied 300 images of Zinaida Serebriakova\n",
      "Copied 300 images of Eyvind Earle\n",
      "Copied 300 images of Konstantin Korovin\n"
     ]
    }
   ],
   "source": [
    "#don't rerun, copying 300 images of each artist in a folder\n",
    "for i in range(len(artistslist)):\n",
    "    files = list(df[(df['artist']==artistslist[i])]['new_filename'])\n",
    "    count = 0\n",
    "    num = 300  \n",
    "    for f in files:\n",
    "        if (count < num) and os.path.exists(input_dir+f):\n",
    "            copy2(input_dir+f, output_dir)\n",
    "            count +=1\n",
    "    print('Copied %d images of %s' % (count, artistslist[i]))"
   ]
  },
  {
   "cell_type": "code",
   "execution_count": 12,
   "id": "2d804f39",
   "metadata": {},
   "outputs": [
    {
     "data": {
      "text/plain": [
       "'George Stefanescu-Ramnic '"
      ]
     },
     "execution_count": 12,
     "metadata": {},
     "output_type": "execute_result"
    }
   ],
   "source": [
    "#artistslist[22]"
   ]
  },
  {
   "cell_type": "code",
   "execution_count": 18,
   "id": "26e7952e",
   "metadata": {},
   "outputs": [],
   "source": [
    "#artistslist[22]='Felix Vallotton'\n",
    "#artistslist[88]='Wassily Kandinsky'\n",
    "#artistslist[105]='George Stefanescu-Ramnic'"
   ]
  },
  {
   "cell_type": "code",
   "execution_count": 61,
   "id": "ca6deddd",
   "metadata": {},
   "outputs": [
    {
     "name": "stdout",
     "output_type": "stream",
     "text": [
      "Created: G:/btp data/Resized/top 300/artistfolders/\n",
      "Created: G:/btp data/Resized/top 300/artistfolders/Ivan Aivazovsky\n",
      "Created: G:/btp data/Resized/top 300/artistfolders/Gustave Dore\n",
      "Created: G:/btp data/Resized/top 300/artistfolders/Utagawa Kuniyoshi\n",
      "Created: G:/btp data/Resized/top 300/artistfolders/Odilon Redon\n",
      "Created: G:/btp data/Resized/top 300/artistfolders/Henri de Toulouse-Lautrec\n",
      "Created: G:/btp data/Resized/top 300/artistfolders/Rembrandt\n",
      "Created: G:/btp data/Resized/top 300/artistfolders/Ernst Ludwig Kirchner\n",
      "Created: G:/btp data/Resized/top 300/artistfolders/William Merritt Chase\n",
      "Created: G:/btp data/Resized/top 300/artistfolders/Edgar Degas\n",
      "Created: G:/btp data/Resized/top 300/artistfolders/Claude Monet\n",
      "Created: G:/btp data/Resized/top 300/artistfolders/Theodor Severin Kittelsen\n",
      "Created: G:/btp data/Resized/top 300/artistfolders/Felix Vallotton\n",
      "Created: G:/btp data/Resized/top 300/artistfolders/Pierre-Auguste Renoir\n",
      "Created: G:/btp data/Resized/top 300/artistfolders/Albrecht Durer\n",
      "Created: G:/btp data/Resized/top 300/artistfolders/Francisco Goya\n",
      "Created: G:/btp data/Resized/top 300/artistfolders/Theophile Steinlen\n",
      "Created: G:/btp data/Resized/top 300/artistfolders/Alfred Sisley\n",
      "Created: G:/btp data/Resized/top 300/artistfolders/Ivan Shishkin\n",
      "Created: G:/btp data/Resized/top 300/artistfolders/Giovanni Battista Piranesi\n",
      "Created: G:/btp data/Resized/top 300/artistfolders/Camille Corot\n",
      "Created: G:/btp data/Resized/top 300/artistfolders/Childe Hassam\n",
      "Created: G:/btp data/Resized/top 300/artistfolders/Raphael Kirchner\n",
      "Created: G:/btp data/Resized/top 300/artistfolders/James Tissot\n",
      "Created: G:/btp data/Resized/top 300/artistfolders/Eugene Boudin\n",
      "Created: G:/btp data/Resized/top 300/artistfolders/Paul Cezanne\n",
      "Created: G:/btp data/Resized/top 300/artistfolders/John Singer Sargent\n",
      "Created: G:/btp data/Resized/top 300/artistfolders/Peter Paul Rubens\n",
      "Created: G:/btp data/Resized/top 300/artistfolders/Vincent van Gogh\n",
      "Created: G:/btp data/Resized/top 300/artistfolders/Isaac Levitan\n",
      "Created: G:/btp data/Resized/top 300/artistfolders/Zdislav Beksinski\n",
      "Created: G:/btp data/Resized/top 300/artistfolders/David Burliuk\n",
      "Created: G:/btp data/Resized/top 300/artistfolders/Camille Pissarro\n",
      "Created: G:/btp data/Resized/top 300/artistfolders/Fernand Leger\n",
      "Created: G:/btp data/Resized/top 300/artistfolders/Amedeo Modigliani\n",
      "Created: G:/btp data/Resized/top 300/artistfolders/Konstantin Makovsky\n",
      "Created: G:/btp data/Resized/top 300/artistfolders/Mary Cassatt\n",
      "Created: G:/btp data/Resized/top 300/artistfolders/Sam Francis\n",
      "Created: G:/btp data/Resized/top 300/artistfolders/Boris Kustodiev\n",
      "Created: G:/btp data/Resized/top 300/artistfolders/Nicholas Roerich\n",
      "Created: G:/btp data/Resized/top 300/artistfolders/Ilya Repin\n",
      "Created: G:/btp data/Resized/top 300/artistfolders/Martiros Saryan\n",
      "Created: G:/btp data/Resized/top 300/artistfolders/Pyotr Konchalovsky\n",
      "Created: G:/btp data/Resized/top 300/artistfolders/M.C. Escher\n",
      "Created: G:/btp data/Resized/top 300/artistfolders/Maurice Prendergast\n",
      "Created: G:/btp data/Resized/top 300/artistfolders/Salvador Dali\n",
      "Created: G:/btp data/Resized/top 300/artistfolders/Pablo Picasso\n",
      "Created: G:/btp data/Resized/top 300/artistfolders/Henri Matisse\n",
      "Created: G:/btp data/Resized/top 300/artistfolders/Rene Magritte\n",
      "Created: G:/btp data/Resized/top 300/artistfolders/Max Ernst\n",
      "Created: G:/btp data/Resized/top 300/artistfolders/Henri Martin\n",
      "Created: G:/btp data/Resized/top 300/artistfolders/Erte\n",
      "Created: G:/btp data/Resized/top 300/artistfolders/Marc Chagall\n",
      "Created: G:/btp data/Resized/top 300/artistfolders/Paul Gauguin\n",
      "Created: G:/btp data/Resized/top 300/artistfolders/Albert Bierstadt\n",
      "Created: G:/btp data/Resized/top 300/artistfolders/Zinaida Serebriakova\n",
      "Created: G:/btp data/Resized/top 300/artistfolders/Eyvind Earle\n",
      "Created: G:/btp data/Resized/top 300/artistfolders/Konstantin Korovin\n"
     ]
    }
   ],
   "source": [
    "#creating seperate folders for each artist\n",
    "artist_dir='G:/btp data/Resized/top 300/artistfolders/'\n",
    "new_folder(artist_dir)\n",
    "artist_dirs = []\n",
    "for a in artistslist:\n",
    "    artist_dirs.append(artist_dir + a)\n",
    "\n",
    "for b in artist_dirs:    \n",
    "    new_folder(b)"
   ]
  },
  {
   "cell_type": "code",
   "execution_count": 62,
   "id": "94f67205",
   "metadata": {},
   "outputs": [
    {
     "name": "stdout",
     "output_type": "stream",
     "text": [
      "Copied to G:/btp data/Resized/top 300/artistfolders/Ivan Aivazovsky : 300 images\n",
      "Copied to G:/btp data/Resized/top 300/artistfolders/Gustave Dore : 300 images\n",
      "Copied to G:/btp data/Resized/top 300/artistfolders/Utagawa Kuniyoshi : 300 images\n",
      "Copied to G:/btp data/Resized/top 300/artistfolders/Odilon Redon : 300 images\n",
      "Copied to G:/btp data/Resized/top 300/artistfolders/Henri de Toulouse-Lautrec : 300 images\n",
      "Copied to G:/btp data/Resized/top 300/artistfolders/Rembrandt : 300 images\n",
      "Copied to G:/btp data/Resized/top 300/artistfolders/Ernst Ludwig Kirchner : 300 images\n",
      "Copied to G:/btp data/Resized/top 300/artistfolders/William Merritt Chase : 300 images\n",
      "Copied to G:/btp data/Resized/top 300/artistfolders/Edgar Degas : 300 images\n",
      "Copied to G:/btp data/Resized/top 300/artistfolders/Claude Monet : 300 images\n",
      "Copied to G:/btp data/Resized/top 300/artistfolders/Theodor Severin Kittelsen : 300 images\n",
      "Copied to G:/btp data/Resized/top 300/artistfolders/Felix Vallotton : 300 images\n",
      "Copied to G:/btp data/Resized/top 300/artistfolders/Pierre-Auguste Renoir : 300 images\n",
      "Copied to G:/btp data/Resized/top 300/artistfolders/Albrecht Durer : 300 images\n",
      "Copied to G:/btp data/Resized/top 300/artistfolders/Francisco Goya : 300 images\n",
      "Copied to G:/btp data/Resized/top 300/artistfolders/Theophile Steinlen : 300 images\n",
      "Copied to G:/btp data/Resized/top 300/artistfolders/Alfred Sisley : 300 images\n",
      "Copied to G:/btp data/Resized/top 300/artistfolders/Ivan Shishkin : 300 images\n",
      "Copied to G:/btp data/Resized/top 300/artistfolders/Giovanni Battista Piranesi : 300 images\n",
      "Copied to G:/btp data/Resized/top 300/artistfolders/Camille Corot : 300 images\n",
      "Copied to G:/btp data/Resized/top 300/artistfolders/Childe Hassam : 300 images\n",
      "Copied to G:/btp data/Resized/top 300/artistfolders/Raphael Kirchner : 300 images\n",
      "Copied to G:/btp data/Resized/top 300/artistfolders/James Tissot : 300 images\n",
      "Copied to G:/btp data/Resized/top 300/artistfolders/Eugene Boudin : 300 images\n",
      "Copied to G:/btp data/Resized/top 300/artistfolders/Paul Cezanne : 300 images\n",
      "Copied to G:/btp data/Resized/top 300/artistfolders/John Singer Sargent : 300 images\n",
      "Copied to G:/btp data/Resized/top 300/artistfolders/Peter Paul Rubens : 300 images\n",
      "Copied to G:/btp data/Resized/top 300/artistfolders/Vincent van Gogh : 300 images\n",
      "Copied to G:/btp data/Resized/top 300/artistfolders/Isaac Levitan : 300 images\n",
      "Copied to G:/btp data/Resized/top 300/artistfolders/Zdislav Beksinski : 300 images\n",
      "Copied to G:/btp data/Resized/top 300/artistfolders/David Burliuk : 300 images\n",
      "Copied to G:/btp data/Resized/top 300/artistfolders/Camille Pissarro : 300 images\n",
      "Copied to G:/btp data/Resized/top 300/artistfolders/Fernand Leger : 300 images\n",
      "Copied to G:/btp data/Resized/top 300/artistfolders/Amedeo Modigliani : 300 images\n",
      "Copied to G:/btp data/Resized/top 300/artistfolders/Konstantin Makovsky : 300 images\n",
      "Copied to G:/btp data/Resized/top 300/artistfolders/Mary Cassatt : 300 images\n",
      "Copied to G:/btp data/Resized/top 300/artistfolders/Sam Francis : 300 images\n",
      "Copied to G:/btp data/Resized/top 300/artistfolders/Boris Kustodiev : 300 images\n",
      "Copied to G:/btp data/Resized/top 300/artistfolders/Nicholas Roerich : 300 images\n",
      "Copied to G:/btp data/Resized/top 300/artistfolders/Ilya Repin : 300 images\n",
      "Copied to G:/btp data/Resized/top 300/artistfolders/Martiros Saryan : 300 images\n",
      "Copied to G:/btp data/Resized/top 300/artistfolders/Pyotr Konchalovsky : 300 images\n",
      "Copied to G:/btp data/Resized/top 300/artistfolders/M.C. Escher : 300 images\n",
      "Copied to G:/btp data/Resized/top 300/artistfolders/Maurice Prendergast : 300 images\n",
      "Copied to G:/btp data/Resized/top 300/artistfolders/Salvador Dali : 300 images\n",
      "Copied to G:/btp data/Resized/top 300/artistfolders/Pablo Picasso : 300 images\n",
      "Copied to G:/btp data/Resized/top 300/artistfolders/Henri Matisse : 300 images\n",
      "Copied to G:/btp data/Resized/top 300/artistfolders/Rene Magritte : 300 images\n",
      "Copied to G:/btp data/Resized/top 300/artistfolders/Max Ernst : 300 images\n",
      "Copied to G:/btp data/Resized/top 300/artistfolders/Henri Martin : 300 images\n",
      "Copied to G:/btp data/Resized/top 300/artistfolders/Erte : 300 images\n",
      "Copied to G:/btp data/Resized/top 300/artistfolders/Marc Chagall : 300 images\n",
      "Copied to G:/btp data/Resized/top 300/artistfolders/Paul Gauguin : 300 images\n",
      "Copied to G:/btp data/Resized/top 300/artistfolders/Albert Bierstadt : 300 images\n",
      "Copied to G:/btp data/Resized/top 300/artistfolders/Zinaida Serebriakova : 300 images\n",
      "Copied to G:/btp data/Resized/top 300/artistfolders/Eyvind Earle : 300 images\n",
      "Copied to G:/btp data/Resized/top 300/artistfolders/Konstantin Korovin : 300 images\n"
     ]
    }
   ],
   "source": [
    "#don't rerun, copying images of each artist into their folders\n",
    "num = 300\n",
    "\n",
    "for i in range(len(artistslist)):\n",
    "    count=0\n",
    "    files = list(df[(df['artist']==artistslist[i])]['new_filename'])\n",
    "    #random.shuffle(files)\n",
    "    for f in files:\n",
    "        if (count<num) and os.path.exists(output_dir+f) and not os.path.exists(artist_dirs[i]+f):\n",
    "            copy2(output_dir+f, artist_dirs[i])\n",
    "            count+=1\n",
    "    print('Copied to %s : %s images' % (str(artist_dirs[i]), str(count)))"
   ]
  },
  {
   "cell_type": "code",
   "execution_count": 63,
   "id": "a2e35670",
   "metadata": {},
   "outputs": [],
   "source": [
    "#don't rerun, spliting data into train,validation and test according to decided split ratio\n",
    "import splitfolders \n",
    "splitfolders.ratio('G:/btp data/Resized/top 300/artistfolders', output='G:/btp data/Resized/top 300/exp2/', seed=42, ratio=(0.7, 0.15,0.15))"
   ]
  },
  {
   "cell_type": "code",
   "execution_count": 70,
   "id": "4eb0e9f4",
   "metadata": {},
   "outputs": [],
   "source": [
    "#don't rerun, spliting data into train,validation and test according to decided split ratio\n",
    "import splitfolders \n",
    "splitfolders.ratio('G:/btp data/Resized/top 300/artistfolders', output='G:/btp data/Resized/top 300/exp2/', seed=42, ratio=(0.7, 0.15,0.15))"
   ]
  },
  {
   "cell_type": "code",
   "execution_count": 71,
   "id": "a0494745",
   "metadata": {},
   "outputs": [],
   "source": [
    "#don't rerun, spliting data into train,validation and test according to decided split ratio\n",
    "import splitfolders \n",
    "splitfolders.ratio('G:/btp data/Resized/top 300/artistfolders', output='G:/btp data/Resized/top 300/exp3/', seed=42, ratio=(0.7, 0.3))"
   ]
  },
  {
   "cell_type": "code",
   "execution_count": null,
   "id": "d1baa57b",
   "metadata": {},
   "outputs": [],
   "source": [
    "#don't rerun, spliting data into train,validation and test according to decided split ratio\n",
    "import splitfolders \n",
    "splitfolders.ratio('G:/btp data/Resized/top 300/artistfolders', output='G:/btp data/Resized/top 300/exp4/', seed=42, ratio=(0.6, 0.2,0.2))"
   ]
  },
  {
   "cell_type": "code",
   "execution_count": null,
   "id": "269a2b4c",
   "metadata": {},
   "outputs": [],
   "source": []
  },
  {
   "cell_type": "code",
   "execution_count": null,
   "id": "88ae0118",
   "metadata": {},
   "outputs": [],
   "source": []
  }
 ],
 "metadata": {
  "kernelspec": {
   "display_name": "Python 3",
   "language": "python",
   "name": "python3"
  },
  "language_info": {
   "codemirror_mode": {
    "name": "ipython",
    "version": 3
   },
   "file_extension": ".py",
   "mimetype": "text/x-python",
   "name": "python",
   "nbconvert_exporter": "python",
   "pygments_lexer": "ipython3",
   "version": "3.8.8"
  }
 },
 "nbformat": 4,
 "nbformat_minor": 5
}
